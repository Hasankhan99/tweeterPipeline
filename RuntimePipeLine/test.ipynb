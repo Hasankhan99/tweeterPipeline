{
 "cells": [
  {
   "cell_type": "code",
   "execution_count": 1,
   "metadata": {},
   "outputs": [],
   "source": [
    "tweet = [\"example amp colleagues re todays wall st ceo hearing should have also pointed out ceo jamie dimons equally baseless claim that bank capital is bad america when it really only hurt his bonus 2\",\n",
    "\"nice talking many issues likely come up at todays wall st ceo hearing\",\n",
    "\"yeah like im going take advice cognizant challenged criminal about who vote no thanks ill let you know randy if i want know how be squatter or how sneak out hotel bill\"]"
   ]
  },
  {
   "cell_type": "code",
   "execution_count": 2,
   "metadata": {},
   "outputs": [
    {
     "name": "stderr",
     "output_type": "stream",
     "text": [
      "c:\\Users\\HP\\anaconda3\\envs\\pipeline\\lib\\site-packages\\tqdm\\auto.py:22: TqdmWarning: IProgress not found. Please update jupyter and ipywidgets. See https://ipywidgets.readthedocs.io/en/stable/user_install.html\n",
      "  from .autonotebook import tqdm as notebook_tqdm\n"
     ]
    }
   ],
   "source": [
    "import pandas as pd\n",
    "import numpy as np\n",
    "from finbert_v1.main import finbert_predict\n",
    "from sentence_tr.check_similarity import CheckSimilarity\n",
    "from topic_model.topic_model import topicModel\n",
    "import re"
   ]
  },
  {
   "cell_type": "code",
   "execution_count": 3,
   "metadata": {},
   "outputs": [
    {
     "name": "stderr",
     "output_type": "stream",
     "text": [
      "09/21/2022 06:23:57 - INFO - root -   Quantization parameters for tensor:\"input.4\" not specified\n",
      "09/21/2022 06:23:57 - INFO - root -   Quantization parameters for tensor:\"onnx::MatMul_308\" not specified\n",
      "09/21/2022 06:23:58 - INFO - root -   Quantization parameters for tensor:\"onnx::MatMul_323\" not specified\n"
     ]
    },
    {
     "name": "stdout",
     "output_type": "stream",
     "text": [
      "Ignore MatMul due to non constant B: /[MatMul_149]\n",
      "Ignore MatMul due to non constant B: /[MatMul_154]\n"
     ]
    },
    {
     "name": "stderr",
     "output_type": "stream",
     "text": [
      "09/21/2022 06:23:58 - INFO - root -   Quantization parameters for tensor:\"onnx::MatMul_334\" not specified\n",
      "09/21/2022 06:23:58 - INFO - root -   Quantization parameters for tensor:\"onnx::MatMul_349\" not specified\n",
      "09/21/2022 06:23:58 - INFO - root -   Quantization parameters for tensor:\"onnx::MatMul_422\" not specified\n",
      "09/21/2022 06:23:58 - INFO - root -   Quantization parameters for tensor:\"onnx::MatMul_437\" not specified\n"
     ]
    },
    {
     "name": "stdout",
     "output_type": "stream",
     "text": [
      "Ignore MatMul due to non constant B: /[MatMul_243]\n",
      "Ignore MatMul due to non constant B: /[MatMul_248]\n"
     ]
    },
    {
     "name": "stderr",
     "output_type": "stream",
     "text": [
      "09/21/2022 06:23:58 - INFO - root -   Quantization parameters for tensor:\"onnx::MatMul_448\" not specified\n",
      "09/21/2022 06:23:58 - INFO - root -   Quantization parameters for tensor:\"onnx::MatMul_463\" not specified\n",
      "09/21/2022 06:23:59 - INFO - root -   Quantization parameters for tensor:\"onnx::MatMul_536\" not specified\n",
      "09/21/2022 06:23:59 - INFO - root -   Quantization parameters for tensor:\"onnx::MatMul_551\" not specified\n"
     ]
    },
    {
     "name": "stdout",
     "output_type": "stream",
     "text": [
      "Ignore MatMul due to non constant B: /[MatMul_337]\n",
      "Ignore MatMul due to non constant B: /[MatMul_342]\n"
     ]
    },
    {
     "name": "stderr",
     "output_type": "stream",
     "text": [
      "09/21/2022 06:23:59 - INFO - root -   Quantization parameters for tensor:\"onnx::MatMul_562\" not specified\n",
      "09/21/2022 06:23:59 - INFO - root -   Quantization parameters for tensor:\"onnx::MatMul_577\" not specified\n",
      "09/21/2022 06:23:59 - INFO - root -   Quantization parameters for tensor:\"onnx::MatMul_650\" not specified\n",
      "09/21/2022 06:23:59 - INFO - root -   Quantization parameters for tensor:\"onnx::MatMul_665\" not specified\n"
     ]
    },
    {
     "name": "stdout",
     "output_type": "stream",
     "text": [
      "Ignore MatMul due to non constant B: /[MatMul_431]\n",
      "Ignore MatMul due to non constant B: /[MatMul_436]\n"
     ]
    },
    {
     "name": "stderr",
     "output_type": "stream",
     "text": [
      "09/21/2022 06:23:59 - INFO - root -   Quantization parameters for tensor:\"onnx::MatMul_676\" not specified\n",
      "09/21/2022 06:23:59 - INFO - root -   Quantization parameters for tensor:\"onnx::MatMul_691\" not specified\n",
      "09/21/2022 06:24:00 - INFO - root -   Quantization parameters for tensor:\"onnx::MatMul_764\" not specified\n",
      "09/21/2022 06:24:00 - INFO - root -   Quantization parameters for tensor:\"onnx::MatMul_779\" not specified\n"
     ]
    },
    {
     "name": "stdout",
     "output_type": "stream",
     "text": [
      "Ignore MatMul due to non constant B: /[MatMul_525]\n",
      "Ignore MatMul due to non constant B: /[MatMul_530]\n"
     ]
    },
    {
     "name": "stderr",
     "output_type": "stream",
     "text": [
      "09/21/2022 06:24:00 - INFO - root -   Quantization parameters for tensor:\"onnx::MatMul_790\" not specified\n",
      "09/21/2022 06:24:00 - INFO - root -   Quantization parameters for tensor:\"onnx::MatMul_805\" not specified\n",
      "09/21/2022 06:24:00 - INFO - root -   Quantization parameters for tensor:\"onnx::MatMul_878\" not specified\n",
      "09/21/2022 06:24:00 - INFO - root -   Quantization parameters for tensor:\"onnx::MatMul_893\" not specified\n"
     ]
    },
    {
     "name": "stdout",
     "output_type": "stream",
     "text": [
      "Ignore MatMul due to non constant B: /[MatMul_619]\n",
      "Ignore MatMul due to non constant B: /[MatMul_624]\n"
     ]
    },
    {
     "name": "stderr",
     "output_type": "stream",
     "text": [
      "09/21/2022 06:24:00 - INFO - root -   Quantization parameters for tensor:\"onnx::MatMul_904\" not specified\n",
      "09/21/2022 06:24:00 - INFO - root -   Quantization parameters for tensor:\"onnx::MatMul_919\" not specified\n",
      "09/21/2022 06:24:01 - INFO - root -   Quantization parameters for tensor:\"onnx::MatMul_992\" not specified\n",
      "09/21/2022 06:24:01 - INFO - root -   Quantization parameters for tensor:\"onnx::MatMul_1007\" not specified\n"
     ]
    },
    {
     "name": "stdout",
     "output_type": "stream",
     "text": [
      "Ignore MatMul due to non constant B: /[MatMul_713]\n",
      "Ignore MatMul due to non constant B: /[MatMul_718]\n"
     ]
    },
    {
     "name": "stderr",
     "output_type": "stream",
     "text": [
      "09/21/2022 06:24:01 - INFO - root -   Quantization parameters for tensor:\"onnx::MatMul_1018\" not specified\n",
      "09/21/2022 06:24:01 - INFO - root -   Quantization parameters for tensor:\"onnx::MatMul_1033\" not specified\n",
      "09/21/2022 06:24:01 - INFO - root -   Quantization parameters for tensor:\"onnx::MatMul_1106\" not specified\n",
      "09/21/2022 06:24:01 - INFO - root -   Quantization parameters for tensor:\"onnx::MatMul_1121\" not specified\n"
     ]
    },
    {
     "name": "stdout",
     "output_type": "stream",
     "text": [
      "Ignore MatMul due to non constant B: /[MatMul_807]\n",
      "Ignore MatMul due to non constant B: /[MatMul_812]\n"
     ]
    },
    {
     "name": "stderr",
     "output_type": "stream",
     "text": [
      "09/21/2022 06:24:01 - INFO - root -   Quantization parameters for tensor:\"onnx::MatMul_1132\" not specified\n",
      "09/21/2022 06:24:02 - INFO - root -   Quantization parameters for tensor:\"onnx::MatMul_1147\" not specified\n",
      "09/21/2022 06:24:02 - INFO - root -   Quantization parameters for tensor:\"onnx::MatMul_1220\" not specified\n",
      "09/21/2022 06:24:02 - INFO - root -   Quantization parameters for tensor:\"onnx::MatMul_1235\" not specified\n"
     ]
    },
    {
     "name": "stdout",
     "output_type": "stream",
     "text": [
      "Ignore MatMul due to non constant B: /[MatMul_901]\n",
      "Ignore MatMul due to non constant B: /[MatMul_906]\n"
     ]
    },
    {
     "name": "stderr",
     "output_type": "stream",
     "text": [
      "09/21/2022 06:24:02 - INFO - root -   Quantization parameters for tensor:\"onnx::MatMul_1246\" not specified\n",
      "09/21/2022 06:24:02 - INFO - root -   Quantization parameters for tensor:\"onnx::MatMul_1261\" not specified\n",
      "09/21/2022 06:24:02 - INFO - root -   Quantization parameters for tensor:\"onnx::MatMul_1334\" not specified\n",
      "09/21/2022 06:24:02 - INFO - root -   Quantization parameters for tensor:\"onnx::MatMul_1349\" not specified\n"
     ]
    },
    {
     "name": "stdout",
     "output_type": "stream",
     "text": [
      "Ignore MatMul due to non constant B: /[MatMul_995]\n",
      "Ignore MatMul due to non constant B: /[MatMul_1000]\n"
     ]
    },
    {
     "name": "stderr",
     "output_type": "stream",
     "text": [
      "09/21/2022 06:24:02 - INFO - root -   Quantization parameters for tensor:\"onnx::MatMul_1360\" not specified\n",
      "09/21/2022 06:24:02 - INFO - root -   Quantization parameters for tensor:\"onnx::MatMul_1375\" not specified\n",
      "09/21/2022 06:24:03 - INFO - root -   Quantization parameters for tensor:\"onnx::MatMul_1448\" not specified\n",
      "09/21/2022 06:24:03 - INFO - root -   Quantization parameters for tensor:\"onnx::MatMul_1463\" not specified\n"
     ]
    },
    {
     "name": "stdout",
     "output_type": "stream",
     "text": [
      "Ignore MatMul due to non constant B: /[MatMul_1089]\n",
      "Ignore MatMul due to non constant B: /[MatMul_1094]\n"
     ]
    },
    {
     "name": "stderr",
     "output_type": "stream",
     "text": [
      "09/21/2022 06:24:03 - INFO - root -   Quantization parameters for tensor:\"onnx::MatMul_1474\" not specified\n",
      "09/21/2022 06:24:03 - INFO - root -   Quantization parameters for tensor:\"onnx::MatMul_1489\" not specified\n",
      "09/21/2022 06:24:03 - INFO - root -   Quantization parameters for tensor:\"onnx::MatMul_1562\" not specified\n",
      "09/21/2022 06:24:03 - INFO - root -   Quantization parameters for tensor:\"onnx::MatMul_1577\" not specified\n"
     ]
    },
    {
     "name": "stdout",
     "output_type": "stream",
     "text": [
      "Ignore MatMul due to non constant B: /[MatMul_1183]\n",
      "Ignore MatMul due to non constant B: /[MatMul_1188]\n"
     ]
    },
    {
     "name": "stderr",
     "output_type": "stream",
     "text": [
      "09/21/2022 06:24:04 - INFO - root -   Quantization parameters for tensor:\"onnx::MatMul_1588\" not specified\n",
      "09/21/2022 06:24:18 - INFO - sentence_transformers.SentenceTransformer -   Load pretrained SentenceTransformer: all-MiniLM-L6-v2\n",
      "09/21/2022 06:24:19 - INFO - sentence_transformers.SentenceTransformer -   Use pytorch device: cpu\n",
      "Batches: 100%|██████████| 3/3 [00:02<00:00,  1.26it/s]\n"
     ]
    }
   ],
   "source": [
    "topic= topicModel()\n",
    "similarity=CheckSimilarity()"
   ]
  },
  {
   "cell_type": "code",
   "execution_count": 5,
   "metadata": {},
   "outputs": [
    {
     "name": "stderr",
     "output_type": "stream",
     "text": [
      "Batches: 100%|██████████| 1/1 [00:00<00:00, 14.09it/s]\n"
     ]
    }
   ],
   "source": [
    "sim = similarity.check_similarity(tweet[0])\n",
    "topic_result=topic.predictTopic(tweet[0])"
   ]
  },
  {
   "cell_type": "code",
   "execution_count": 24,
   "metadata": {},
   "outputs": [
    {
     "data": {
      "text/plain": [
       "0.4542950391769409"
      ]
     },
     "execution_count": 24,
     "metadata": {},
     "output_type": "execute_result"
    }
   ],
   "source": [
    "float(sim[0])\n"
   ]
  },
  {
   "cell_type": "code",
   "execution_count": 27,
   "metadata": {},
   "outputs": [],
   "source": [
    "import datetime as dt\n"
   ]
  },
  {
   "cell_type": "code",
   "execution_count": 31,
   "metadata": {},
   "outputs": [
    {
     "data": {
      "text/plain": [
       "str"
      ]
     },
     "execution_count": 31,
     "metadata": {},
     "output_type": "execute_result"
    }
   ],
   "source": [
    "type(dt.date.today().strftime(\"%m-%d-%Y\"))"
   ]
  },
  {
   "cell_type": "code",
   "execution_count": 18,
   "metadata": {},
   "outputs": [
    {
     "name": "stderr",
     "output_type": "stream",
     "text": [
      "09/21/2022 06:52:08 - INFO - root -   Using device: cpu \n",
      "09/21/2022 06:52:08 - INFO - finbert_v1.finberT.utils -   *** Example ***\n",
      "09/21/2022 06:52:08 - INFO - finbert_v1.finberT.utils -   guid: 0\n",
      "09/21/2022 06:52:08 - INFO - finbert_v1.finberT.utils -   tokens: [CLS] example amp colleagues re today ##s wall st ceo hearing should have also pointed out ceo jamie dim ##ons equally basel ##ess claim that bank capital is bad america when it really only hurt his bonus 2 [SEP]\n",
      "09/21/2022 06:52:08 - INFO - finbert_v1.finberT.utils -   input_ids: 101 2742 23713 8628 2128 2651 2015 2813 2358 5766 4994 2323 2031 2036 4197 2041 5766 6175 11737 5644 8053 14040 7971 4366 2008 2924 3007 2003 2919 2637 2043 2009 2428 2069 3480 2010 6781 1016 102 0 0 0 0 0 0 0 0 0 0 0 0 0 0 0 0 0 0 0 0 0 0 0 0 0\n",
      "09/21/2022 06:52:08 - INFO - finbert_v1.finberT.utils -   attention_mask: 1 1 1 1 1 1 1 1 1 1 1 1 1 1 1 1 1 1 1 1 1 1 1 1 1 1 1 1 1 1 1 1 1 1 1 1 1 1 1 0 0 0 0 0 0 0 0 0 0 0 0 0 0 0 0 0 0 0 0 0 0 0 0 0\n",
      "09/21/2022 06:52:08 - INFO - finbert_v1.finberT.utils -   token_type_ids: 0 0 0 0 0 0 0 0 0 0 0 0 0 0 0 0 0 0 0 0 0 0 0 0 0 0 0 0 0 0 0 0 0 0 0 0 0 0 0 0 0 0 0 0 0 0 0 0 0 0 0 0 0 0 0 0 0 0 0 0 0 0 0 0\n",
      "09/21/2022 06:52:08 - INFO - finbert_v1.finberT.utils -   label: None (id = 9090)\n",
      "09/21/2022 06:52:09 - INFO - root -   tensor([[ 0.2880,  0.4897, -1.0959]])\n"
     ]
    }
   ],
   "source": [
    "finbert_result=finbert_predict(tweet[0])"
   ]
  },
  {
   "cell_type": "code",
   "execution_count": 19,
   "metadata": {},
   "outputs": [
    {
     "data": {
      "text/plain": [
       "'[{\"sentence\":\"example amp colleagues re todays wall st ceo hearing should have also pointed out ceo jamie dimons equally baseless claim that bank capital is bad america when it really only hurt his bonus 2\",\"logit\":[0.4041829109,0.4945286214,0.1012885198],\"prediction\":\"Decrease below 2%\",\"expect_return_probability\":-0.0903457105}]'"
      ]
     },
     "execution_count": 19,
     "metadata": {},
     "output_type": "execute_result"
    }
   ],
   "source": [
    "finbert_result"
   ]
  },
  {
   "cell_type": "code",
   "execution_count": 32,
   "metadata": {},
   "outputs": [],
   "source": []
  },
  {
   "cell_type": "code",
   "execution_count": 36,
   "metadata": {},
   "outputs": [],
   "source": [
    "SAMPLE_RULES = [\n",
    "        {\n",
    "            \"value\": \"(Abbvie OR Abiomed OR Accenture OR Agilent Technologies OR Emerson Electric OR Fifth Third Bank OR First Republic Bank OR Enphase OR FMC Corporation OR Ford Motor Company) (Acquire OR Consolidate OR ceo OR lay off OR oversight OR criminal OR sale OR resigns OR against OR misconduct OR fraud OR bid OR investigation OR antitrust OR Disclosure OR commission OR hiring freeze OR private OR settle) lang:en\",\n",
    "            \"tag\": \"Rule NO.1\"},\n",
    "          \n",
    "        {\n",
    "            \"value\": \"(Ameriprise Financial OR AmerisourceBergen OR Ametek OR Amphenol OR Aptiv OR Arista Networks OR Avery Dennison OR Baker Hughes OR Franklin Templeton OR General Dynamics)(Acquire OR Consolidate OR ceo OR lay off OR oversight OR criminal OR sale OR resigns OR against OR misconduct OR fraud OR bid OR investigation OR antitrust OR Disclosure OR commission OR hiring freeze OR private OR settle) lang:en\",\n",
    "            \"tag\": \"Rule NO.3\"},\n",
    "        {\n",
    "            \"value\": \"(Ball Corporation OR Baxter International OR Becton Dickinson OR Boston Scientific OR Bristol Myers Squibb OR Cadence Design Systems OR Cardinal Health OR Centene Corporation OR CenterPoint Energy OR JPMorgan Chase) (Acquire OR Consolidate OR ceo OR lay off OR oversight OR criminal OR sale OR resigns OR against OR misconduct OR fraud OR bid OR investigation OR antitrust OR Disclosure OR commission OR hiring freeze OR private OR settle) lang:en\",\n",
    "            \"tag\": \"Rule NO.4\"},\n",
    "        {\n",
    "            \"value\": \"(Cognizant OR ConocoPhillips OR CVS Health OR Devon Energy OR Dexcom OR Diamondback Energy OR Discover Financial OR DXC Technology OR Edwards Lifesciences OR Eli Lilly) (Acquire OR Consolidate OR ceo OR lay off OR oversight OR criminal OR sale OR resigns OR against OR misconduct OR fraud OR bid OR investigation OR antitrust OR Disclosure OR commission OR hiring freeze OR private OR settle) lang:en\",\n",
    "            \"tag\": \"Rule NO.5\"},\n",
    "    ]\n",
    "def get_keyword_from_rule(rules):\n",
    "    temp = rules.lower()\n",
    "    temp = re.sub(\"'\", \"\", temp)  # to avoid removing contractions in english\n",
    "    temp = re.sub(\"@[A-Za-z0-9_]+\", \"\", temp)\n",
    "    temp = re.sub(\"#[A-Za-z0-9_]+\", \"\", temp)\n",
    "    temp = re.sub(r'http\\S+', '', temp)\n",
    "    temp = re.sub('[()!?]', ' ', temp)\n",
    "    temp = re.sub('\\[.*?\\]', ' ', temp)\n",
    "    temp = re.sub(\"[^a-z0-9]\", \" \", temp)\n",
    "    temp = temp.split()\n",
    "    temp = [w for w in temp if not w in ['or','lang','en']]\n",
    "    return temp\n",
    "\n",
    "def get_keywords_dict():\n",
    "    global SAMPLE_RULES\n",
    "    new_dict = {}\n",
    "    for rule in SAMPLE_RULES:\n",
    "        new_dict[rule['tag']] = [str(y) for y in get_keyword_from_rule(rule['value'])]\n",
    "    return new_dict\n",
    "\n",
    "KEY_WORDS = get_keywords_dict()"
   ]
  },
  {
   "cell_type": "code",
   "execution_count": 38,
   "metadata": {},
   "outputs": [
    {
     "data": {
      "text/plain": [
       "['abbvie',\n",
       " 'abiomed',\n",
       " 'accenture',\n",
       " 'agilent',\n",
       " 'technologies',\n",
       " 'emerson',\n",
       " 'electric',\n",
       " 'fifth',\n",
       " 'third',\n",
       " 'bank',\n",
       " 'first',\n",
       " 'republic',\n",
       " 'bank',\n",
       " 'enphase',\n",
       " 'fmc',\n",
       " 'corporation',\n",
       " 'ford',\n",
       " 'motor',\n",
       " 'company',\n",
       " 'acquire',\n",
       " 'consolidate',\n",
       " 'ceo',\n",
       " 'lay',\n",
       " 'off',\n",
       " 'oversight',\n",
       " 'criminal',\n",
       " 'sale',\n",
       " 'resigns',\n",
       " 'against',\n",
       " 'misconduct',\n",
       " 'fraud',\n",
       " 'bid',\n",
       " 'investigation',\n",
       " 'antitrust',\n",
       " 'disclosure',\n",
       " 'commission',\n",
       " 'hiring',\n",
       " 'freeze',\n",
       " 'private',\n",
       " 'settle']"
      ]
     },
     "execution_count": 38,
     "metadata": {},
     "output_type": "execute_result"
    }
   ],
   "source": [
    "KEY_WORDS['Rule NO.1']"
   ]
  },
  {
   "cell_type": "code",
   "execution_count": null,
   "metadata": {},
   "outputs": [],
   "source": [
    "time_date (US EST Time)\tAuthor_ID\ttweet\tsimilarity_result\tfinbert_result\ttopic_result\tstock_ticker\ttweet_id\tpreprocessed_tweet\tkeyword_search"
   ]
  }
 ],
 "metadata": {
  "kernelspec": {
   "display_name": "Python 3.8.13 ('pipeline')",
   "language": "python",
   "name": "python3"
  },
  "language_info": {
   "codemirror_mode": {
    "name": "ipython",
    "version": 3
   },
   "file_extension": ".py",
   "mimetype": "text/x-python",
   "name": "python",
   "nbconvert_exporter": "python",
   "pygments_lexer": "ipython3",
   "version": "3.8.13"
  },
  "orig_nbformat": 4,
  "vscode": {
   "interpreter": {
    "hash": "4316ed65c501e881cb467c3548bcf6ab6de31125bb1d10eb79fb2aa746f058ab"
   }
  }
 },
 "nbformat": 4,
 "nbformat_minor": 2
}
