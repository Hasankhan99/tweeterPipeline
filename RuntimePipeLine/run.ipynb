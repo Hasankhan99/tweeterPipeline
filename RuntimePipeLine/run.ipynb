{
 "cells": [
  {
   "cell_type": "code",
   "execution_count": 3,
   "metadata": {},
   "outputs": [],
   "source": [
    "import pandas as pd\n",
    "import numpy as np\n",
    "from finbert_v1.main import finbert_predict\n",
    "from sentence_tr.check_similarity import CheckSimilarity\n",
    "from topic_model.topic_model import topicModel\n",
    "import re\n",
    "\n"
   ]
  },
  {
   "cell_type": "code",
   "execution_count": 4,
   "metadata": {},
   "outputs": [],
   "source": [
    "\n",
    "def clear_noise(text):\n",
    "    text = re.sub(r'@[A-Za-z0-9]+', '', text) #Removing @mentions\n",
    "    text = re.sub(r'#', '', text) #Removing the '#' symbol\n",
    "    text = re.sub(r'RT[\\s]+', '', text) #Removing RT\n",
    "    text = re.sub(r'https?:\\/\\/\\S+', '', text) #Removing hyperlink\n",
    "    text=re.sub(r'[^a-zA-Z0-9\\s]', '', text) #Removing punctuation\n",
    "    text = re.sub(r'\\s+', ' ', text) #Removing extra spaces\n",
    "    text=text.lower() #Converting to lowercase\n",
    "    return text"
   ]
  },
  {
   "cell_type": "code",
   "execution_count": 5,
   "metadata": {},
   "outputs": [],
   "source": [
    "data=pd.read_csv(\"testdata.csv\",encoding=\"latin1\")\n",
    "data=data.sample(frac=1).reset_index(drop=True)\n",
    "data=data[0:100]\n",
    "data['Content']=data['Content'].apply(clear_noise)\n",
    "data['User']=data['User'].apply(lambda x: x.split(\"\\\\\")[1])"
   ]
  },
  {
   "cell_type": "code",
   "execution_count": 4,
   "metadata": {},
   "outputs": [
    {
     "data": {
      "text/plain": [
       "Index(['Content', 'Type', 'Retweets', 'Likes', 'Replies', 'Quoted Count',\n",
       "       'Tweeted At', 'Retweeted At', 'Retweeted From', 'Replying To', 'User',\n",
       "       'EstTime', 'dateStock', 'Tweet time'],\n",
       "      dtype='object')"
      ]
     },
     "execution_count": 4,
     "metadata": {},
     "output_type": "execute_result"
    }
   ],
   "source": [
    "data.columns"
   ]
  },
  {
   "cell_type": "code",
   "execution_count": 7,
   "metadata": {},
   "outputs": [
    {
     "name": "stderr",
     "output_type": "stream",
     "text": [
      "09/16/2022 10:16:12 - INFO - root -   Quantization parameters for tensor:\"input.4\" not specified\n",
      "09/16/2022 10:16:12 - INFO - root -   Quantization parameters for tensor:\"onnx::MatMul_308\" not specified\n",
      "09/16/2022 10:16:12 - INFO - root -   Quantization parameters for tensor:\"onnx::MatMul_323\" not specified\n"
     ]
    },
    {
     "name": "stdout",
     "output_type": "stream",
     "text": [
      "Ignore MatMul due to non constant B: /[MatMul_149]\n",
      "Ignore MatMul due to non constant B: /[MatMul_154]\n"
     ]
    },
    {
     "name": "stderr",
     "output_type": "stream",
     "text": [
      "09/16/2022 10:16:12 - INFO - root -   Quantization parameters for tensor:\"onnx::MatMul_334\" not specified\n",
      "09/16/2022 10:16:13 - INFO - root -   Quantization parameters for tensor:\"onnx::MatMul_349\" not specified\n",
      "09/16/2022 10:16:13 - INFO - root -   Quantization parameters for tensor:\"onnx::MatMul_422\" not specified\n",
      "09/16/2022 10:16:13 - INFO - root -   Quantization parameters for tensor:\"onnx::MatMul_437\" not specified\n"
     ]
    },
    {
     "name": "stdout",
     "output_type": "stream",
     "text": [
      "Ignore MatMul due to non constant B: /[MatMul_243]\n",
      "Ignore MatMul due to non constant B: /[MatMul_248]\n"
     ]
    },
    {
     "name": "stderr",
     "output_type": "stream",
     "text": [
      "09/16/2022 10:16:13 - INFO - root -   Quantization parameters for tensor:\"onnx::MatMul_448\" not specified\n",
      "09/16/2022 10:16:13 - INFO - root -   Quantization parameters for tensor:\"onnx::MatMul_463\" not specified\n",
      "09/16/2022 10:16:13 - INFO - root -   Quantization parameters for tensor:\"onnx::MatMul_536\" not specified\n",
      "09/16/2022 10:16:13 - INFO - root -   Quantization parameters for tensor:\"onnx::MatMul_551\" not specified\n"
     ]
    },
    {
     "name": "stdout",
     "output_type": "stream",
     "text": [
      "Ignore MatMul due to non constant B: /[MatMul_337]\n",
      "Ignore MatMul due to non constant B: /[MatMul_342]\n"
     ]
    },
    {
     "name": "stderr",
     "output_type": "stream",
     "text": [
      "09/16/2022 10:16:14 - INFO - root -   Quantization parameters for tensor:\"onnx::MatMul_562\" not specified\n",
      "09/16/2022 10:16:14 - INFO - root -   Quantization parameters for tensor:\"onnx::MatMul_577\" not specified\n",
      "09/16/2022 10:16:14 - INFO - root -   Quantization parameters for tensor:\"onnx::MatMul_650\" not specified\n",
      "09/16/2022 10:16:14 - INFO - root -   Quantization parameters for tensor:\"onnx::MatMul_665\" not specified\n"
     ]
    },
    {
     "name": "stdout",
     "output_type": "stream",
     "text": [
      "Ignore MatMul due to non constant B: /[MatMul_431]\n",
      "Ignore MatMul due to non constant B: /[MatMul_436]\n"
     ]
    },
    {
     "name": "stderr",
     "output_type": "stream",
     "text": [
      "09/16/2022 10:16:14 - INFO - root -   Quantization parameters for tensor:\"onnx::MatMul_676\" not specified\n",
      "09/16/2022 10:16:14 - INFO - root -   Quantization parameters for tensor:\"onnx::MatMul_691\" not specified\n",
      "09/16/2022 10:16:14 - INFO - root -   Quantization parameters for tensor:\"onnx::MatMul_764\" not specified\n",
      "09/16/2022 10:16:15 - INFO - root -   Quantization parameters for tensor:\"onnx::MatMul_779\" not specified\n"
     ]
    },
    {
     "name": "stdout",
     "output_type": "stream",
     "text": [
      "Ignore MatMul due to non constant B: /[MatMul_525]\n",
      "Ignore MatMul due to non constant B: /[MatMul_530]\n"
     ]
    },
    {
     "name": "stderr",
     "output_type": "stream",
     "text": [
      "09/16/2022 10:16:15 - INFO - root -   Quantization parameters for tensor:\"onnx::MatMul_790\" not specified\n",
      "09/16/2022 10:16:15 - INFO - root -   Quantization parameters for tensor:\"onnx::MatMul_805\" not specified\n"
     ]
    },
    {
     "name": "stdout",
     "output_type": "stream",
     "text": [
      "Ignore MatMul due to non constant B: /[MatMul_619]\n",
      "Ignore MatMul due to non constant B: /[MatMul_624]\n"
     ]
    },
    {
     "name": "stderr",
     "output_type": "stream",
     "text": [
      "09/16/2022 10:16:15 - INFO - root -   Quantization parameters for tensor:\"onnx::MatMul_878\" not specified\n",
      "09/16/2022 10:16:15 - INFO - root -   Quantization parameters for tensor:\"onnx::MatMul_893\" not specified\n",
      "09/16/2022 10:16:15 - INFO - root -   Quantization parameters for tensor:\"onnx::MatMul_904\" not specified\n",
      "09/16/2022 10:16:16 - INFO - root -   Quantization parameters for tensor:\"onnx::MatMul_919\" not specified\n",
      "09/16/2022 10:16:16 - INFO - root -   Quantization parameters for tensor:\"onnx::MatMul_992\" not specified\n",
      "09/16/2022 10:16:16 - INFO - root -   Quantization parameters for tensor:\"onnx::MatMul_1007\" not specified\n"
     ]
    },
    {
     "name": "stdout",
     "output_type": "stream",
     "text": [
      "Ignore MatMul due to non constant B: /[MatMul_713]\n",
      "Ignore MatMul due to non constant B: /[MatMul_718]\n"
     ]
    },
    {
     "name": "stderr",
     "output_type": "stream",
     "text": [
      "09/16/2022 10:16:16 - INFO - root -   Quantization parameters for tensor:\"onnx::MatMul_1018\" not specified\n",
      "09/16/2022 10:16:16 - INFO - root -   Quantization parameters for tensor:\"onnx::MatMul_1033\" not specified\n",
      "09/16/2022 10:16:16 - INFO - root -   Quantization parameters for tensor:\"onnx::MatMul_1106\" not specified\n",
      "09/16/2022 10:16:16 - INFO - root -   Quantization parameters for tensor:\"onnx::MatMul_1121\" not specified\n"
     ]
    },
    {
     "name": "stdout",
     "output_type": "stream",
     "text": [
      "Ignore MatMul due to non constant B: /[MatMul_807]\n",
      "Ignore MatMul due to non constant B: /[MatMul_812]\n"
     ]
    },
    {
     "name": "stderr",
     "output_type": "stream",
     "text": [
      "09/16/2022 10:16:16 - INFO - root -   Quantization parameters for tensor:\"onnx::MatMul_1132\" not specified\n",
      "09/16/2022 10:16:17 - INFO - root -   Quantization parameters for tensor:\"onnx::MatMul_1147\" not specified\n",
      "09/16/2022 10:16:17 - INFO - root -   Quantization parameters for tensor:\"onnx::MatMul_1220\" not specified\n",
      "09/16/2022 10:16:17 - INFO - root -   Quantization parameters for tensor:\"onnx::MatMul_1235\" not specified\n"
     ]
    },
    {
     "name": "stdout",
     "output_type": "stream",
     "text": [
      "Ignore MatMul due to non constant B: /[MatMul_901]\n",
      "Ignore MatMul due to non constant B: /[MatMul_906]\n"
     ]
    },
    {
     "name": "stderr",
     "output_type": "stream",
     "text": [
      "09/16/2022 10:16:17 - INFO - root -   Quantization parameters for tensor:\"onnx::MatMul_1246\" not specified\n",
      "09/16/2022 10:16:17 - INFO - root -   Quantization parameters for tensor:\"onnx::MatMul_1261\" not specified\n",
      "09/16/2022 10:16:17 - INFO - root -   Quantization parameters for tensor:\"onnx::MatMul_1334\" not specified\n",
      "09/16/2022 10:16:17 - INFO - root -   Quantization parameters for tensor:\"onnx::MatMul_1349\" not specified\n"
     ]
    },
    {
     "name": "stdout",
     "output_type": "stream",
     "text": [
      "Ignore MatMul due to non constant B: /[MatMul_995]\n",
      "Ignore MatMul due to non constant B: /[MatMul_1000]\n"
     ]
    },
    {
     "name": "stderr",
     "output_type": "stream",
     "text": [
      "09/16/2022 10:16:17 - INFO - root -   Quantization parameters for tensor:\"onnx::MatMul_1360\" not specified\n",
      "09/16/2022 10:16:18 - INFO - root -   Quantization parameters for tensor:\"onnx::MatMul_1375\" not specified\n",
      "09/16/2022 10:16:18 - INFO - root -   Quantization parameters for tensor:\"onnx::MatMul_1448\" not specified\n",
      "09/16/2022 10:16:18 - INFO - root -   Quantization parameters for tensor:\"onnx::MatMul_1463\" not specified\n"
     ]
    },
    {
     "name": "stdout",
     "output_type": "stream",
     "text": [
      "Ignore MatMul due to non constant B: /[MatMul_1089]\n",
      "Ignore MatMul due to non constant B: /[MatMul_1094]\n"
     ]
    },
    {
     "name": "stderr",
     "output_type": "stream",
     "text": [
      "09/16/2022 10:16:18 - INFO - root -   Quantization parameters for tensor:\"onnx::MatMul_1474\" not specified\n",
      "09/16/2022 10:16:18 - INFO - root -   Quantization parameters for tensor:\"onnx::MatMul_1489\" not specified\n",
      "09/16/2022 10:16:18 - INFO - root -   Quantization parameters for tensor:\"onnx::MatMul_1562\" not specified\n",
      "09/16/2022 10:16:18 - INFO - root -   Quantization parameters for tensor:\"onnx::MatMul_1577\" not specified\n"
     ]
    },
    {
     "name": "stdout",
     "output_type": "stream",
     "text": [
      "Ignore MatMul due to non constant B: /[MatMul_1183]\n",
      "Ignore MatMul due to non constant B: /[MatMul_1188]\n"
     ]
    },
    {
     "name": "stderr",
     "output_type": "stream",
     "text": [
      "09/16/2022 10:16:19 - INFO - root -   Quantization parameters for tensor:\"onnx::MatMul_1588\" not specified\n",
      "09/16/2022 10:16:39 - INFO - sentence_transformers.SentenceTransformer -   Load pretrained SentenceTransformer: all-MiniLM-L6-v2\n",
      "09/16/2022 10:16:39 - INFO - sentence_transformers.SentenceTransformer -   Use pytorch device: cpu\n",
      "Batches: 100%|██████████| 3/3 [00:02<00:00,  1.49it/s]\n"
     ]
    }
   ],
   "source": [
    "topic=topicModel()\n",
    "similarity=CheckSimilarity()"
   ]
  },
  {
   "cell_type": "code",
   "execution_count": 8,
   "metadata": {},
   "outputs": [
    {
     "name": "stderr",
     "output_type": "stream",
     "text": [
      "Batches: 100%|██████████| 1/1 [00:00<00:00, 12.99it/s]\n",
      "09/16/2022 10:17:48 - INFO - root -   Using device: cpu \n",
      "09/16/2022 10:17:48 - INFO - finbert_v1.finberT.utils -   *** Example ***\n",
      "09/16/2022 10:17:48 - INFO - finbert_v1.finberT.utils -   guid: 0\n",
      "09/16/2022 10:17:48 - INFO - finbert_v1.finberT.utils -   tokens: [CLS] just in tesla will move its headquarters out of palo alto and out of california ceo el ##on mu ##sk said were moving our headquarters to austin texas mu ##sk said during the electric car makers annual shareholders meeting [SEP]\n",
      "09/16/2022 10:17:48 - INFO - finbert_v1.finberT.utils -   input_ids: 101 2074 1999 26060 2097 2693 2049 4075 2041 1997 24326 10766 1998 2041 1997 2662 5766 3449 2239 14163 6711 2056 2020 3048 2256 4075 2000 5899 3146 14163 6711 2056 2076 1996 3751 2482 11153 3296 15337 3116 102 0 0 0 0 0 0 0 0 0 0 0 0 0 0 0 0 0 0 0 0 0 0 0\n",
      "09/16/2022 10:17:48 - INFO - finbert_v1.finberT.utils -   attention_mask: 1 1 1 1 1 1 1 1 1 1 1 1 1 1 1 1 1 1 1 1 1 1 1 1 1 1 1 1 1 1 1 1 1 1 1 1 1 1 1 1 1 0 0 0 0 0 0 0 0 0 0 0 0 0 0 0 0 0 0 0 0 0 0 0\n",
      "09/16/2022 10:17:48 - INFO - finbert_v1.finberT.utils -   token_type_ids: 0 0 0 0 0 0 0 0 0 0 0 0 0 0 0 0 0 0 0 0 0 0 0 0 0 0 0 0 0 0 0 0 0 0 0 0 0 0 0 0 0 0 0 0 0 0 0 0 0 0 0 0 0 0 0 0 0 0 0 0 0 0 0 0\n",
      "09/16/2022 10:17:48 - INFO - finbert_v1.finberT.utils -   label: None (id = 9090)\n",
      "09/16/2022 10:17:48 - INFO - root -   tensor([[ 0.5330, -0.5051,  0.7201]])\n"
     ]
    },
    {
     "name": "stdout",
     "output_type": "stream",
     "text": [
      "{0: {'UserName': 'Jason_T_Green', 'time_date': '2021-10-07 19:20:45-04:00', 'tweet': 'just in tesla will move its headquarters out of palo alto and out of california ceo elon musk said were moving our headquarters to austin texas musk said during the electric car makers annual shareholders meeting ', 'similarity_result': [tensor([[0.4828]]), 'tesla share sharply drop on report that the company is facing a us criminal over musks statements', 'just in tesla will move its headquarters out of palo alto and out of california ceo elon musk said were moving our headquarters to austin texas musk said during the electric car makers annual shareholders meeting '], 'finbert_result': '[{\"sentence\":\"just in tesla will move its headquarters out of palo alto and out of california ceo elon musk said were moving our headquarters to austin texas musk said during the electric car makers annual shareholders meeting\",\"logit\":[0.3906534612,0.1383375823,0.4710089862],\"prediction\":\"neutral\",\"expect_return_probability\":0.2523158789}]', 'topic_result': {'Acquisition': 0.0527946684436239, 'Executive': 0.322818547847019, 'Investigation': 0.1849391211474499, 'Layoff': 0.07026690510321093, 'Product Launch': 0.3691807574586962}}}\n"
     ]
    },
    {
     "name": "stderr",
     "output_type": "stream",
     "text": [
      "Batches: 100%|██████████| 1/1 [00:00<00:00, 20.01it/s]\n",
      "09/16/2022 10:17:50 - INFO - root -   Using device: cpu \n",
      "09/16/2022 10:17:50 - INFO - finbert_v1.finberT.utils -   *** Example ***\n",
      "09/16/2022 10:17:50 - INFO - finbert_v1.finberT.utils -   guid: 0\n",
      "09/16/2022 10:17:50 - INFO - finbert_v1.finberT.utils -   tokens: [CLS] i tried to get a proposal from three firms two gave me bids but tesla solar charged me a fee asked me to sign a letter to the utility so they could connect then to sign a contract for a system without providing the configuration never could get a price it was ba ##ff ##ling [SEP]\n",
      "09/16/2022 10:17:50 - INFO - finbert_v1.finberT.utils -   input_ids: 101 1045 2699 2000 2131 1037 6378 2013 2093 9786 2048 2435 2033 20723 2021 26060 5943 5338 2033 1037 7408 2356 2033 2000 3696 1037 3661 2000 1996 9710 2061 2027 2071 7532 2059 2000 3696 1037 3206 2005 1037 2291 2302 4346 1996 9563 2196 2071 2131 1037 3976 2009 2001 8670 4246 2989 102 0 0 0 0 0 0 0\n",
      "09/16/2022 10:17:50 - INFO - finbert_v1.finberT.utils -   attention_mask: 1 1 1 1 1 1 1 1 1 1 1 1 1 1 1 1 1 1 1 1 1 1 1 1 1 1 1 1 1 1 1 1 1 1 1 1 1 1 1 1 1 1 1 1 1 1 1 1 1 1 1 1 1 1 1 1 1 0 0 0 0 0 0 0\n",
      "09/16/2022 10:17:50 - INFO - finbert_v1.finberT.utils -   token_type_ids: 0 0 0 0 0 0 0 0 0 0 0 0 0 0 0 0 0 0 0 0 0 0 0 0 0 0 0 0 0 0 0 0 0 0 0 0 0 0 0 0 0 0 0 0 0 0 0 0 0 0 0 0 0 0 0 0 0 0 0 0 0 0 0 0\n",
      "09/16/2022 10:17:50 - INFO - finbert_v1.finberT.utils -   label: None (id = 9090)\n",
      "09/16/2022 10:17:50 - INFO - root -   tensor([[ 0.3842, -0.5964,  0.0260]])\n"
     ]
    },
    {
     "name": "stdout",
     "output_type": "stream",
     "text": [
      "{0: {'UserName': 'Jason_T_Green', 'time_date': '2021-10-07 19:20:45-04:00', 'tweet': 'just in tesla will move its headquarters out of palo alto and out of california ceo elon musk said were moving our headquarters to austin texas musk said during the electric car makers annual shareholders meeting ', 'similarity_result': [tensor([[0.4828]]), 'tesla share sharply drop on report that the company is facing a us criminal over musks statements', 'just in tesla will move its headquarters out of palo alto and out of california ceo elon musk said were moving our headquarters to austin texas musk said during the electric car makers annual shareholders meeting '], 'finbert_result': '[{\"sentence\":\"just in tesla will move its headquarters out of palo alto and out of california ceo elon musk said were moving our headquarters to austin texas musk said during the electric car makers annual shareholders meeting\",\"logit\":[0.3906534612,0.1383375823,0.4710089862],\"prediction\":\"neutral\",\"expect_return_probability\":0.2523158789}]', 'topic_result': {'Acquisition': 0.0527946684436239, 'Executive': 0.322818547847019, 'Investigation': 0.1849391211474499, 'Layoff': 0.07026690510321093, 'Product Launch': 0.3691807574586962}}, 1: {'UserName': 'dane', 'time_date': '2021-07-09 21:08:51-04:00', 'tweet': 'i tried to get a proposal from three firms two gave me bids but tesla solar charged me a fee asked me to sign a letter to the utility so they could connect then to sign a contract for a system without providing the configuration never could get a price it was baffling', 'similarity_result': [tensor([[0.4343]]), 'tender offer made by multiple companies to purchase american water works', 'i tried to get a proposal from three firms two gave me bids but tesla solar charged me a fee asked me to sign a letter to the utility so they could connect then to sign a contract for a system without providing the configuration never could get a price it was baffling'], 'finbert_result': '[{\"sentence\":\"i tried to get a proposal from three firms two gave me bids but tesla solar charged me a fee asked me to sign a letter to the utility so they could connect then to sign a contract for a system without providing the configuration never could get a price it was baffling\",\"logit\":[0.4821683168,0.1808544844,0.3369772136],\"prediction\":\"Increase above 2%\",\"expect_return_probability\":0.3013138175}]', 'topic_result': {'Acquisition': 0.33661567854548496, 'Executive': 0.2223357611697046, 'Investigation': 0.23155429993540105, 'Layoff': 0.0352862565876404, 'Product Launch': 0.174208003761769}}}\n"
     ]
    }
   ],
   "source": [
    "output={}\n",
    "for i in range(len(data)):\n",
    "    tweet=data['Content'][i]\n",
    "    UserName=data['User'][i]\n",
    "    time_date=data['EstTime'][i]\n",
    "    similarity_result=similarity.check_similarity(tweet)\n",
    "    topic_result=topic.predictTopic(tweet)\n",
    "    finbert_result=finbert_predict(tweet)\n",
    "    output[i]={'UserName':UserName,'time_date':time_date,'tweet':tweet,'similarity_result':similarity_result,'finbert_result':finbert_result,'topic_result':topic_result}\n",
    "    print(output)\n",
    "    if i ==1:\n",
    "        break\n",
    "# print(output)\n",
    "    \n"
   ]
  },
  {
   "cell_type": "code",
   "execution_count": 6,
   "metadata": {},
   "outputs": [
    {
     "name": "stderr",
     "output_type": "stream",
     "text": [
      "09/13/2022 16:25:00 - INFO - root -   Quantization parameters for tensor:\"input.4\" not specified\n",
      "09/13/2022 16:25:00 - INFO - root -   Quantization parameters for tensor:\"onnx::MatMul_308\" not specified\n",
      "09/13/2022 16:25:00 - INFO - root -   Quantization parameters for tensor:\"onnx::MatMul_323\" not specified\n"
     ]
    },
    {
     "name": "stdout",
     "output_type": "stream",
     "text": [
      "Ignore MatMul due to non constant B: /[MatMul_149]\n",
      "Ignore MatMul due to non constant B: /[MatMul_154]\n"
     ]
    },
    {
     "name": "stderr",
     "output_type": "stream",
     "text": [
      "09/13/2022 16:25:00 - INFO - root -   Quantization parameters for tensor:\"onnx::MatMul_334\" not specified\n",
      "09/13/2022 16:25:01 - INFO - root -   Quantization parameters for tensor:\"onnx::MatMul_349\" not specified\n",
      "09/13/2022 16:25:01 - INFO - root -   Quantization parameters for tensor:\"onnx::MatMul_422\" not specified\n",
      "09/13/2022 16:25:01 - INFO - root -   Quantization parameters for tensor:\"onnx::MatMul_437\" not specified\n"
     ]
    },
    {
     "name": "stdout",
     "output_type": "stream",
     "text": [
      "Ignore MatMul due to non constant B: /[MatMul_243]\n",
      "Ignore MatMul due to non constant B: /[MatMul_248]\n"
     ]
    },
    {
     "name": "stderr",
     "output_type": "stream",
     "text": [
      "09/13/2022 16:25:01 - INFO - root -   Quantization parameters for tensor:\"onnx::MatMul_448\" not specified\n",
      "09/13/2022 16:25:01 - INFO - root -   Quantization parameters for tensor:\"onnx::MatMul_463\" not specified\n",
      "09/13/2022 16:25:01 - INFO - root -   Quantization parameters for tensor:\"onnx::MatMul_536\" not specified\n",
      "09/13/2022 16:25:01 - INFO - root -   Quantization parameters for tensor:\"onnx::MatMul_551\" not specified\n"
     ]
    },
    {
     "name": "stdout",
     "output_type": "stream",
     "text": [
      "Ignore MatMul due to non constant B: /[MatMul_337]\n",
      "Ignore MatMul due to non constant B: /[MatMul_342]\n"
     ]
    },
    {
     "name": "stderr",
     "output_type": "stream",
     "text": [
      "09/13/2022 16:25:02 - INFO - root -   Quantization parameters for tensor:\"onnx::MatMul_562\" not specified\n",
      "09/13/2022 16:25:02 - INFO - root -   Quantization parameters for tensor:\"onnx::MatMul_577\" not specified\n",
      "09/13/2022 16:25:02 - INFO - root -   Quantization parameters for tensor:\"onnx::MatMul_650\" not specified\n",
      "09/13/2022 16:25:02 - INFO - root -   Quantization parameters for tensor:\"onnx::MatMul_665\" not specified\n"
     ]
    },
    {
     "name": "stdout",
     "output_type": "stream",
     "text": [
      "Ignore MatMul due to non constant B: /[MatMul_431]\n",
      "Ignore MatMul due to non constant B: /[MatMul_436]\n"
     ]
    },
    {
     "name": "stderr",
     "output_type": "stream",
     "text": [
      "09/13/2022 16:25:02 - INFO - root -   Quantization parameters for tensor:\"onnx::MatMul_676\" not specified\n",
      "09/13/2022 16:25:02 - INFO - root -   Quantization parameters for tensor:\"onnx::MatMul_691\" not specified\n",
      "09/13/2022 16:25:03 - INFO - root -   Quantization parameters for tensor:\"onnx::MatMul_764\" not specified\n",
      "09/13/2022 16:25:03 - INFO - root -   Quantization parameters for tensor:\"onnx::MatMul_779\" not specified\n"
     ]
    },
    {
     "name": "stdout",
     "output_type": "stream",
     "text": [
      "Ignore MatMul due to non constant B: /[MatMul_525]\n",
      "Ignore MatMul due to non constant B: /[MatMul_530]\n"
     ]
    },
    {
     "name": "stderr",
     "output_type": "stream",
     "text": [
      "09/13/2022 16:25:03 - INFO - root -   Quantization parameters for tensor:\"onnx::MatMul_790\" not specified\n",
      "09/13/2022 16:25:03 - INFO - root -   Quantization parameters for tensor:\"onnx::MatMul_805\" not specified\n",
      "09/13/2022 16:25:03 - INFO - root -   Quantization parameters for tensor:\"onnx::MatMul_878\" not specified\n",
      "09/13/2022 16:25:03 - INFO - root -   Quantization parameters for tensor:\"onnx::MatMul_893\" not specified\n"
     ]
    },
    {
     "name": "stdout",
     "output_type": "stream",
     "text": [
      "Ignore MatMul due to non constant B: /[MatMul_619]\n",
      "Ignore MatMul due to non constant B: /[MatMul_624]\n"
     ]
    },
    {
     "name": "stderr",
     "output_type": "stream",
     "text": [
      "09/13/2022 16:25:04 - INFO - root -   Quantization parameters for tensor:\"onnx::MatMul_904\" not specified\n",
      "09/13/2022 16:25:04 - INFO - root -   Quantization parameters for tensor:\"onnx::MatMul_919\" not specified\n",
      "09/13/2022 16:25:04 - INFO - root -   Quantization parameters for tensor:\"onnx::MatMul_992\" not specified\n",
      "09/13/2022 16:25:04 - INFO - root -   Quantization parameters for tensor:\"onnx::MatMul_1007\" not specified\n"
     ]
    },
    {
     "name": "stdout",
     "output_type": "stream",
     "text": [
      "Ignore MatMul due to non constant B: /[MatMul_713]\n",
      "Ignore MatMul due to non constant B: /[MatMul_718]\n"
     ]
    },
    {
     "name": "stderr",
     "output_type": "stream",
     "text": [
      "09/13/2022 16:25:04 - INFO - root -   Quantization parameters for tensor:\"onnx::MatMul_1018\" not specified\n",
      "09/13/2022 16:25:04 - INFO - root -   Quantization parameters for tensor:\"onnx::MatMul_1033\" not specified\n",
      "09/13/2022 16:25:04 - INFO - root -   Quantization parameters for tensor:\"onnx::MatMul_1106\" not specified\n",
      "09/13/2022 16:25:04 - INFO - root -   Quantization parameters for tensor:\"onnx::MatMul_1121\" not specified\n"
     ]
    },
    {
     "name": "stdout",
     "output_type": "stream",
     "text": [
      "Ignore MatMul due to non constant B: /[MatMul_807]\n",
      "Ignore MatMul due to non constant B: /[MatMul_812]\n"
     ]
    },
    {
     "name": "stderr",
     "output_type": "stream",
     "text": [
      "09/13/2022 16:25:05 - INFO - root -   Quantization parameters for tensor:\"onnx::MatMul_1132\" not specified\n",
      "09/13/2022 16:25:05 - INFO - root -   Quantization parameters for tensor:\"onnx::MatMul_1147\" not specified\n",
      "09/13/2022 16:25:05 - INFO - root -   Quantization parameters for tensor:\"onnx::MatMul_1220\" not specified\n",
      "09/13/2022 16:25:05 - INFO - root -   Quantization parameters for tensor:\"onnx::MatMul_1235\" not specified\n"
     ]
    },
    {
     "name": "stdout",
     "output_type": "stream",
     "text": [
      "Ignore MatMul due to non constant B: /[MatMul_901]\n",
      "Ignore MatMul due to non constant B: /[MatMul_906]\n"
     ]
    },
    {
     "name": "stderr",
     "output_type": "stream",
     "text": [
      "09/13/2022 16:25:05 - INFO - root -   Quantization parameters for tensor:\"onnx::MatMul_1246\" not specified\n",
      "09/13/2022 16:25:05 - INFO - root -   Quantization parameters for tensor:\"onnx::MatMul_1261\" not specified\n",
      "09/13/2022 16:25:05 - INFO - root -   Quantization parameters for tensor:\"onnx::MatMul_1334\" not specified\n",
      "09/13/2022 16:25:06 - INFO - root -   Quantization parameters for tensor:\"onnx::MatMul_1349\" not specified\n"
     ]
    },
    {
     "name": "stdout",
     "output_type": "stream",
     "text": [
      "Ignore MatMul due to non constant B: /[MatMul_995]\n",
      "Ignore MatMul due to non constant B: /[MatMul_1000]\n"
     ]
    },
    {
     "name": "stderr",
     "output_type": "stream",
     "text": [
      "09/13/2022 16:25:06 - INFO - root -   Quantization parameters for tensor:\"onnx::MatMul_1360\" not specified\n",
      "09/13/2022 16:25:06 - INFO - root -   Quantization parameters for tensor:\"onnx::MatMul_1375\" not specified\n",
      "09/13/2022 16:25:06 - INFO - root -   Quantization parameters for tensor:\"onnx::MatMul_1448\" not specified\n",
      "09/13/2022 16:25:06 - INFO - root -   Quantization parameters for tensor:\"onnx::MatMul_1463\" not specified\n"
     ]
    },
    {
     "name": "stdout",
     "output_type": "stream",
     "text": [
      "Ignore MatMul due to non constant B: /[MatMul_1089]\n",
      "Ignore MatMul due to non constant B: /[MatMul_1094]\n"
     ]
    },
    {
     "name": "stderr",
     "output_type": "stream",
     "text": [
      "09/13/2022 16:25:06 - INFO - root -   Quantization parameters for tensor:\"onnx::MatMul_1474\" not specified\n",
      "09/13/2022 16:25:06 - INFO - root -   Quantization parameters for tensor:\"onnx::MatMul_1489\" not specified\n",
      "09/13/2022 16:25:07 - INFO - root -   Quantization parameters for tensor:\"onnx::MatMul_1562\" not specified\n",
      "09/13/2022 16:25:07 - INFO - root -   Quantization parameters for tensor:\"onnx::MatMul_1577\" not specified\n"
     ]
    },
    {
     "name": "stdout",
     "output_type": "stream",
     "text": [
      "Ignore MatMul due to non constant B: /[MatMul_1183]\n",
      "Ignore MatMul due to non constant B: /[MatMul_1188]\n"
     ]
    },
    {
     "name": "stderr",
     "output_type": "stream",
     "text": [
      "09/13/2022 16:25:07 - INFO - root -   Quantization parameters for tensor:\"onnx::MatMul_1588\" not specified\n",
      "Batches: 100%|██████████| 2/2 [00:01<00:00,  1.17it/s]\n",
      "Batches: 100%|██████████| 1/1 [00:00<00:00, 22.73it/s]\n",
      "Batches: 100%|██████████| 2/2 [00:01<00:00,  1.53it/s]\n",
      "Batches: 100%|██████████| 1/1 [00:00<00:00, 14.50it/s]\n",
      "Batches: 100%|██████████| 2/2 [00:01<00:00,  1.37it/s]\n",
      "Batches: 100%|██████████| 1/1 [00:00<00:00, 28.58it/s]\n",
      "Batches: 100%|██████████| 2/2 [00:01<00:00,  1.35it/s]\n",
      "Batches: 100%|██████████| 1/1 [00:00<00:00, 14.93it/s]\n",
      "Batches: 100%|██████████| 2/2 [00:01<00:00,  1.32it/s]\n",
      "Batches: 100%|██████████| 1/1 [00:00<00:00, 27.79it/s]\n",
      "Batches: 100%|██████████| 2/2 [00:01<00:00,  1.66it/s]\n",
      "Batches: 100%|██████████| 1/1 [00:00<00:00, 26.32it/s]\n",
      "Batches: 100%|██████████| 2/2 [00:01<00:00,  1.57it/s]\n",
      "Batches: 100%|██████████| 1/1 [00:00<00:00, 12.50it/s]\n",
      "Batches: 100%|██████████| 2/2 [00:01<00:00,  1.24it/s]\n",
      "Batches: 100%|██████████| 1/1 [00:00<00:00, 10.31it/s]\n",
      "Batches: 100%|██████████| 2/2 [00:01<00:00,  1.45it/s]\n",
      "Batches: 100%|██████████| 1/1 [00:00<00:00,  8.41it/s]\n",
      "Batches: 100%|██████████| 2/2 [00:02<00:00,  1.11s/it]\n",
      "Batches: 100%|██████████| 1/1 [00:00<00:00, 14.71it/s]\n",
      "Batches: 100%|██████████| 2/2 [00:01<00:00,  1.23it/s]\n",
      "Batches: 100%|██████████| 1/1 [00:00<00:00,  6.58it/s]\n",
      "Batches: 100%|██████████| 2/2 [00:01<00:00,  1.12it/s]\n",
      "Batches: 100%|██████████| 1/1 [00:00<00:00, 10.21it/s]\n",
      "Batches: 100%|██████████| 2/2 [00:01<00:00,  1.27it/s]\n",
      "Batches: 100%|██████████| 1/1 [00:00<00:00, 12.82it/s]\n",
      "Batches: 100%|██████████| 2/2 [00:01<00:00,  1.19it/s]\n",
      "Batches: 100%|██████████| 1/1 [00:00<00:00, 16.13it/s]\n",
      "Batches: 100%|██████████| 2/2 [00:01<00:00,  1.21it/s]\n",
      "Batches: 100%|██████████| 1/1 [00:00<00:00, 10.10it/s]\n",
      "Batches: 100%|██████████| 2/2 [00:01<00:00,  1.53it/s]\n",
      "Batches: 100%|██████████| 1/1 [00:00<00:00, 21.75it/s]\n",
      "Batches: 100%|██████████| 2/2 [00:01<00:00,  1.35it/s]\n",
      "Batches: 100%|██████████| 1/1 [00:00<00:00, 15.63it/s]\n",
      "Batches: 100%|██████████| 2/2 [00:01<00:00,  1.32it/s]\n",
      "Batches: 100%|██████████| 1/1 [00:00<00:00, 20.41it/s]\n",
      "Batches: 100%|██████████| 2/2 [00:01<00:00,  1.12it/s]\n",
      "Batches: 100%|██████████| 1/1 [00:00<00:00, 18.87it/s]\n",
      "Batches: 100%|██████████| 2/2 [00:01<00:00,  1.58it/s]\n",
      "Batches: 100%|██████████| 1/1 [00:00<00:00, 21.28it/s]\n",
      "Batches: 100%|██████████| 2/2 [00:01<00:00,  1.15it/s]\n",
      "Batches: 100%|██████████| 1/1 [00:00<00:00, 22.73it/s]\n",
      "Batches: 100%|██████████| 2/2 [00:01<00:00,  1.65it/s]\n",
      "Batches: 100%|██████████| 1/1 [00:00<00:00, 20.41it/s]\n",
      "Batches: 100%|██████████| 2/2 [00:01<00:00,  1.40it/s]\n",
      "Batches: 100%|██████████| 1/1 [00:00<00:00,  7.15it/s]\n",
      "Batches: 100%|██████████| 2/2 [00:01<00:00,  1.40it/s]\n",
      "Batches: 100%|██████████| 1/1 [00:00<00:00, 18.75it/s]\n",
      "Batches: 100%|██████████| 2/2 [00:01<00:00,  1.54it/s]\n",
      "Batches: 100%|██████████| 1/1 [00:00<00:00,  8.85it/s]\n",
      "Batches: 100%|██████████| 2/2 [00:01<00:00,  1.15it/s]\n",
      "Batches: 100%|██████████| 1/1 [00:00<00:00, 17.55it/s]\n",
      "Batches: 100%|██████████| 2/2 [00:01<00:00,  1.81it/s]\n",
      "Batches: 100%|██████████| 1/1 [00:00<00:00, 13.52it/s]\n",
      "Batches: 100%|██████████| 2/2 [00:01<00:00,  1.51it/s]\n",
      "Batches: 100%|██████████| 1/1 [00:00<00:00, 22.73it/s]\n",
      "Batches: 100%|██████████| 2/2 [00:01<00:00,  1.78it/s]\n",
      "Batches: 100%|██████████| 1/1 [00:00<00:00, 12.50it/s]\n",
      "Batches: 100%|██████████| 2/2 [00:01<00:00,  1.47it/s]\n",
      "Batches: 100%|██████████| 1/1 [00:00<00:00, 16.13it/s]\n",
      "Batches: 100%|██████████| 2/2 [00:01<00:00,  1.24it/s]\n",
      "Batches: 100%|██████████| 1/1 [00:00<00:00, 14.93it/s]\n",
      "Batches: 100%|██████████| 2/2 [00:01<00:00,  1.34it/s]\n",
      "Batches: 100%|██████████| 1/1 [00:00<00:00, 16.67it/s]\n",
      "Batches: 100%|██████████| 2/2 [00:01<00:00,  1.28it/s]\n",
      "Batches: 100%|██████████| 1/1 [00:00<00:00, 14.50it/s]\n",
      "Batches: 100%|██████████| 2/2 [00:01<00:00,  1.45it/s]\n",
      "Batches: 100%|██████████| 1/1 [00:00<00:00, 14.71it/s]\n",
      "Batches: 100%|██████████| 2/2 [00:01<00:00,  1.01it/s]\n",
      "Batches: 100%|██████████| 1/1 [00:00<00:00, 17.55it/s]\n",
      "Batches: 100%|██████████| 2/2 [00:02<00:00,  1.40s/it]\n",
      "Batches: 100%|██████████| 1/1 [00:00<00:00, 23.82it/s]\n",
      "Batches: 100%|██████████| 2/2 [00:01<00:00,  1.52it/s]\n",
      "Batches: 100%|██████████| 1/1 [00:00<00:00, 10.76it/s]\n",
      "Batches: 100%|██████████| 2/2 [00:01<00:00,  1.38it/s]\n",
      "Batches: 100%|██████████| 1/1 [00:00<00:00, 27.79it/s]\n",
      "Batches: 100%|██████████| 2/2 [00:01<00:00,  1.62it/s]\n",
      "Batches: 100%|██████████| 1/1 [00:00<00:00, 10.21it/s]\n",
      "Batches: 100%|██████████| 2/2 [00:01<00:00,  1.82it/s]\n",
      "Batches: 100%|██████████| 1/1 [00:00<00:00, 11.63it/s]\n",
      "Batches: 100%|██████████| 2/2 [00:01<00:00,  1.18it/s]\n",
      "Batches: 100%|██████████| 1/1 [00:00<00:00, 15.63it/s]\n",
      "Batches: 100%|██████████| 2/2 [00:01<00:00,  1.35it/s]\n",
      "Batches: 100%|██████████| 1/1 [00:00<00:00, 28.58it/s]\n",
      "Batches: 100%|██████████| 2/2 [00:01<00:00,  1.51it/s]\n",
      "Batches: 100%|██████████| 1/1 [00:00<00:00, 15.16it/s]\n",
      "Batches: 100%|██████████| 2/2 [00:01<00:00,  1.60it/s]\n",
      "Batches: 100%|██████████| 1/1 [00:00<00:00, 17.25it/s]\n",
      "Batches: 100%|██████████| 2/2 [00:01<00:00,  1.13it/s]\n",
      "Batches: 100%|██████████| 1/1 [00:00<00:00, 20.01it/s]\n",
      "Batches: 100%|██████████| 2/2 [00:02<00:00,  1.02s/it]\n",
      "Batches: 100%|██████████| 1/1 [00:00<00:00, 29.42it/s]\n",
      "Batches: 100%|██████████| 2/2 [00:01<00:00,  1.04it/s]\n",
      "Batches: 100%|██████████| 1/1 [00:00<00:00, 13.70it/s]\n",
      "Batches: 100%|██████████| 2/2 [00:01<00:00,  1.43it/s]\n",
      "Batches: 100%|██████████| 1/1 [00:00<00:00, 19.61it/s]\n",
      "Batches: 100%|██████████| 2/2 [00:01<00:00,  1.51it/s]\n",
      "Batches: 100%|██████████| 1/1 [00:00<00:00, 16.95it/s]\n",
      "Batches: 100%|██████████| 2/2 [00:01<00:00,  1.78it/s]\n",
      "Batches: 100%|██████████| 1/1 [00:00<00:00, 20.41it/s]\n",
      "Batches: 100%|██████████| 2/2 [00:01<00:00,  1.49it/s]\n",
      "Batches: 100%|██████████| 1/1 [00:00<00:00, 23.26it/s]\n",
      "Batches: 100%|██████████| 2/2 [00:01<00:00,  1.55it/s]\n",
      "Batches: 100%|██████████| 1/1 [00:00<00:00, 16.67it/s]\n",
      "Batches: 100%|██████████| 2/2 [00:01<00:00,  1.59it/s]\n",
      "Batches: 100%|██████████| 1/1 [00:00<00:00, 16.40it/s]\n",
      "Batches: 100%|██████████| 2/2 [00:01<00:00,  1.39it/s]\n",
      "Batches: 100%|██████████| 1/1 [00:00<00:00, 14.71it/s]\n",
      "Batches: 100%|██████████| 2/2 [00:01<00:00,  1.35it/s]\n",
      "Batches: 100%|██████████| 1/1 [00:00<00:00, 21.28it/s]\n",
      "Batches: 100%|██████████| 2/2 [00:01<00:00,  1.52it/s]\n",
      "Batches: 100%|██████████| 1/1 [00:00<00:00, 16.95it/s]\n",
      "Batches: 100%|██████████| 2/2 [00:01<00:00,  1.06it/s]\n",
      "Batches: 100%|██████████| 1/1 [00:00<00:00,  8.62it/s]\n",
      "Batches: 100%|██████████| 2/2 [00:01<00:00,  1.03it/s]\n",
      "Batches: 100%|██████████| 1/1 [00:00<00:00, 15.88it/s]\n",
      "Batches: 100%|██████████| 2/2 [00:01<00:00,  1.18it/s]\n",
      "Batches: 100%|██████████| 1/1 [00:00<00:00, 37.05it/s]\n",
      "Batches: 100%|██████████| 2/2 [00:01<00:00,  1.39it/s]\n",
      "Batches: 100%|██████████| 1/1 [00:00<00:00, 20.84it/s]\n",
      "Batches: 100%|██████████| 2/2 [00:01<00:00,  1.40it/s]\n",
      "Batches: 100%|██████████| 1/1 [00:00<00:00, 11.91it/s]\n",
      "Batches: 100%|██████████| 2/2 [00:01<00:00,  1.19it/s]\n",
      "Batches: 100%|██████████| 1/1 [00:00<00:00, 16.40it/s]\n",
      "Batches: 100%|██████████| 2/2 [00:01<00:00,  1.50it/s]\n",
      "Batches: 100%|██████████| 1/1 [00:00<00:00, 25.01it/s]\n",
      "Batches: 100%|██████████| 2/2 [00:01<00:00,  1.27it/s]\n",
      "Batches: 100%|██████████| 1/1 [00:00<00:00, 15.88it/s]\n",
      "Batches: 100%|██████████| 2/2 [00:01<00:00,  1.32it/s]\n",
      "Batches: 100%|██████████| 1/1 [00:00<00:00, 16.40it/s]\n",
      "Batches: 100%|██████████| 2/2 [00:01<00:00,  1.43it/s]\n",
      "Batches: 100%|██████████| 1/1 [00:00<00:00, 13.70it/s]\n",
      "Batches: 100%|██████████| 2/2 [00:01<00:00,  1.19it/s]\n",
      "Batches: 100%|██████████| 1/1 [00:00<00:00, 10.76it/s]\n",
      "Batches: 100%|██████████| 2/2 [00:01<00:00,  1.49it/s]\n",
      "Batches: 100%|██████████| 1/1 [00:00<00:00, 12.35it/s]\n",
      "Batches: 100%|██████████| 2/2 [00:01<00:00,  1.27it/s]\n",
      "Batches: 100%|██████████| 1/1 [00:00<00:00,  2.28it/s]\n",
      "Batches: 100%|██████████| 2/2 [00:02<00:00,  1.45s/it]\n",
      "Batches: 100%|██████████| 1/1 [00:00<00:00, 25.65it/s]\n",
      "Batches: 100%|██████████| 2/2 [00:02<00:00,  1.01s/it]\n",
      "Batches: 100%|██████████| 1/1 [00:00<00:00, 27.04it/s]\n",
      "Batches: 100%|██████████| 2/2 [00:01<00:00,  1.20it/s]\n",
      "Batches: 100%|██████████| 1/1 [00:00<00:00, 19.61it/s]\n",
      "Batches: 100%|██████████| 2/2 [00:01<00:00,  1.25it/s]\n",
      "Batches: 100%|██████████| 1/1 [00:00<00:00, 12.50it/s]\n",
      "Batches: 100%|██████████| 2/2 [00:01<00:00,  1.48it/s]\n",
      "Batches: 100%|██████████| 1/1 [00:00<00:00,  6.65it/s]\n",
      "Batches: 100%|██████████| 2/2 [00:01<00:00,  1.23it/s]\n",
      "Batches: 100%|██████████| 1/1 [00:00<00:00, 19.61it/s]\n",
      "Batches: 100%|██████████| 2/2 [00:01<00:00,  1.20it/s]\n",
      "Batches: 100%|██████████| 1/1 [00:00<00:00, 17.25it/s]\n",
      "Batches: 100%|██████████| 2/2 [00:01<00:00,  1.35it/s]\n",
      "Batches: 100%|██████████| 1/1 [00:00<00:00, 13.70it/s]\n",
      "Batches: 100%|██████████| 2/2 [00:01<00:00,  1.58it/s]\n",
      "Batches: 100%|██████████| 1/1 [00:00<00:00, 12.20it/s]\n",
      "Batches: 100%|██████████| 2/2 [00:01<00:00,  1.46it/s]\n",
      "Batches: 100%|██████████| 1/1 [00:00<00:00, 26.32it/s]\n",
      "Batches: 100%|██████████| 2/2 [00:01<00:00,  1.76it/s]\n",
      "Batches: 100%|██████████| 1/1 [00:00<00:00, 18.52it/s]\n",
      "Batches: 100%|██████████| 2/2 [00:01<00:00,  1.70it/s]\n",
      "Batches: 100%|██████████| 1/1 [00:00<00:00, 25.01it/s]\n",
      "Batches: 100%|██████████| 2/2 [00:01<00:00,  1.33it/s]\n",
      "Batches: 100%|██████████| 1/1 [00:00<00:00, 33.34it/s]\n",
      "Batches: 100%|██████████| 2/2 [00:01<00:00,  1.31it/s]\n",
      "Batches: 100%|██████████| 1/1 [00:00<00:00, 23.82it/s]\n",
      "Batches: 100%|██████████| 2/2 [00:01<00:00,  1.44it/s]\n",
      "Batches: 100%|██████████| 1/1 [00:00<00:00, 16.67it/s]\n",
      "Batches: 100%|██████████| 2/2 [00:01<00:00,  1.26it/s]\n",
      "Batches: 100%|██████████| 1/1 [00:00<00:00, 11.24it/s]\n",
      "Batches: 100%|██████████| 2/2 [00:01<00:00,  1.27it/s]\n",
      "Batches: 100%|██████████| 1/1 [00:00<00:00, 17.55it/s]\n",
      "Batches: 100%|██████████| 2/2 [00:02<00:00,  1.25s/it]\n",
      "Batches: 100%|██████████| 1/1 [00:00<00:00,  7.94it/s]\n",
      "Batches: 100%|██████████| 2/2 [00:02<00:00,  1.02s/it]\n",
      "Batches: 100%|██████████| 1/1 [00:00<00:00, 11.50it/s]\n",
      "Batches: 100%|██████████| 2/2 [00:01<00:00,  1.03it/s]\n",
      "Batches: 100%|██████████| 1/1 [00:00<00:00, 13.70it/s]\n",
      "Batches: 100%|██████████| 2/2 [00:01<00:00,  1.03it/s]\n",
      "Batches: 100%|██████████| 1/1 [00:00<00:00,  9.18it/s]\n",
      "Batches: 100%|██████████| 2/2 [00:01<00:00,  1.24it/s]\n",
      "Batches: 100%|██████████| 1/1 [00:00<00:00, 13.34it/s]\n",
      "Batches: 100%|██████████| 2/2 [00:01<00:00,  1.64it/s]\n",
      "Batches: 100%|██████████| 1/1 [00:00<00:00, 14.71it/s]\n",
      "Batches: 100%|██████████| 2/2 [00:01<00:00,  1.32it/s]\n",
      "Batches: 100%|██████████| 1/1 [00:00<00:00, 11.11it/s]\n",
      "Batches: 100%|██████████| 2/2 [00:01<00:00,  1.46it/s]\n",
      "Batches: 100%|██████████| 1/1 [00:00<00:00, 10.00it/s]\n",
      "Batches: 100%|██████████| 2/2 [00:01<00:00,  1.58it/s]\n",
      "Batches: 100%|██████████| 1/1 [00:00<00:00, 17.86it/s]\n",
      "Batches: 100%|██████████| 2/2 [00:01<00:00,  1.75it/s]\n",
      "Batches: 100%|██████████| 1/1 [00:00<00:00, 17.55it/s]\n",
      "Batches: 100%|██████████| 2/2 [00:01<00:00,  1.35it/s]\n",
      "Batches: 100%|██████████| 1/1 [00:00<00:00, 14.93it/s]\n",
      "Batches: 100%|██████████| 2/2 [00:02<00:00,  1.04s/it]\n",
      "Batches: 100%|██████████| 1/1 [00:00<00:00, 16.40it/s]\n",
      "Batches: 100%|██████████| 2/2 [00:02<00:00,  1.10s/it]\n",
      "Batches: 100%|██████████| 1/1 [00:00<00:00, 13.16it/s]\n",
      "Batches: 100%|██████████| 2/2 [00:01<00:00,  1.06it/s]\n",
      "Batches: 100%|██████████| 1/1 [00:00<00:00, 18.87it/s]\n"
     ]
    }
   ],
   "source": [
    "# output={}\n",
    "# topic=topicModel()\n",
    "# for i in range(len(data)):\n",
    "#     tweet=data['Content'][i]\n",
    "#     UserName=data['User'][i]\n",
    "#     time_date=data['EstTime'][i]\n",
    "#     similarity_result=similarity_score(tweet)\n",
    "#     if similarity_result[0] > 0.7:\n",
    "#         topic_result=topic.predictTopic(tweet)\n",
    "#         if any(ele > 10 for ele in topic_result.values()) > 0.5:\n",
    "#             finbert_result=finbert_predict(tweet)\n",
    "#             output[i]={'UserName':UserName,'time_date':time_date,'tweet':tweet,'similarity_result':similarity_result,'finbert_result':finbert_result,'topic_result':topic_result}\n",
    "#             print(output)\n",
    "#         else:\n",
    "#             exit(1)\n",
    "#     else:\n",
    "#         exit(1)"
   ]
  },
  {
   "cell_type": "code",
   "execution_count": 9,
   "metadata": {},
   "outputs": [],
   "source": [
    "for i in output:\n",
    "    output[i].update({'Stock_name':\"TSLA\"})\n",
    "\n"
   ]
  },
  {
   "cell_type": "code",
   "execution_count": 10,
   "metadata": {},
   "outputs": [],
   "source": [
    "import json\n",
    "with open('output.json', 'w') as fp:\n",
    "    json.dump(output, fp)"
   ]
  },
  {
   "cell_type": "code",
   "execution_count": null,
   "metadata": {},
   "outputs": [],
   "source": []
  }
 ],
 "metadata": {
  "kernelspec": {
   "display_name": "Python 3.8.13 ('pipeline')",
   "language": "python",
   "name": "python3"
  },
  "language_info": {
   "codemirror_mode": {
    "name": "ipython",
    "version": 3
   },
   "file_extension": ".py",
   "mimetype": "text/x-python",
   "name": "python",
   "nbconvert_exporter": "python",
   "pygments_lexer": "ipython3",
   "version": "3.8.13"
  },
  "orig_nbformat": 4,
  "vscode": {
   "interpreter": {
    "hash": "4316ed65c501e881cb467c3548bcf6ab6de31125bb1d10eb79fb2aa746f058ab"
   }
  }
 },
 "nbformat": 4,
 "nbformat_minor": 2
}
